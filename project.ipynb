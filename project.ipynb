{
  "nbformat": 4,
  "nbformat_minor": 0,
  "metadata": {
    "colab": {
      "provenance": []
    },
    "kernelspec": {
      "name": "python3",
      "display_name": "Python 3"
    },
    "language_info": {
      "name": "python"
    }
  },
  "cells": [
    {
      "cell_type": "markdown",
      "source": [
        "#All Imports"
      ],
      "metadata": {
        "id": "5AxbVaSckqqz"
      }
    },
    {
      "cell_type": "code",
      "execution_count": 1,
      "metadata": {
        "id": "lN1_A1TxknRX"
      },
      "outputs": [],
      "source": [
        "import numpy as np\n",
        "import random"
      ]
    },
    {
      "cell_type": "markdown",
      "source": [
        "#Exercise 1"
      ],
      "metadata": {
        "id": "ivKyHX9vkzZF"
      }
    },
    {
      "cell_type": "code",
      "source": [
        "def roll_dice(n_simulations = 1000):\n",
        "    count = 0\n",
        "\n",
        "    for i in range(n_simulations):\n",
        "        die1 = random.randint(1, 6)\n",
        "        die2 = random.randint(1, 6)\n",
        "        score = die1 + die2\n",
        "        if (score % 2 == 0) or (score > 7):\n",
        "            count += 1\n",
        "    return count / n_simulations\n",
        "print(f\"The probability of rolling an even number or a number greater than 7 is: {np.round(roll_dice() * 100, 2)}%\")\n"
      ],
      "metadata": {
        "colab": {
          "base_uri": "https://localhost:8080/"
        },
        "id": "SrA8KwdVk0oC",
        "outputId": "6e54f6d2-ac02-4617-d06d-00209bd86850"
      },
      "execution_count": 2,
      "outputs": [
        {
          "output_type": "stream",
          "name": "stdout",
          "text": [
            "The probability of rolling an even number or a number greater than 7 is: 66.3%\n"
          ]
        }
      ]
    },
    {
      "cell_type": "markdown",
      "source": [
        "#Exercise 2"
      ],
      "metadata": {
        "id": "veh3z3zIk1BR"
      }
    },
    {
      "cell_type": "code",
      "source": [
        "box_balls = {}\n",
        "\n",
        "for i in range(60):\n",
        "    if i < 10:\n",
        "        box_balls[i] = \"White\"\n",
        "    elif (i > 9) and (i < 30):\n",
        "        box_balls[i] = \"Red\"\n",
        "    else:\n",
        "        box_balls[i] = \"Green\"\n",
        "print(box_balls)\n",
        "\n",
        "def take_balls(n_simulations = 1000):\n",
        "    count_1 = 0\n",
        "    count_2 = 0\n",
        "    for i in range(n_simulations):\n",
        "        colors = []\n",
        "        for i in range(5):\n",
        "            colors.append(box_balls[np.random.randint(0, 59)])\n",
        "        colors = np.array(colors)\n",
        "\n",
        "        white_balls = sum(colors == \"White\")\n",
        "        red_balls = sum(colors == \"Red\")\n",
        "        green_balls = sum(colors == \"Green\")\n",
        "        if (white_balls == 3) and (red_balls == 2):\n",
        "            count_1 += 1\n",
        "        if (white_balls == 5) or (red_balls == 5) or (green_balls == 5):\n",
        "            count_2 += 1\n",
        "    return count_1 / n_simulations, count_2 / n_simulations\n",
        "\n",
        "probabilities = take_balls(1000)\n",
        "print(f\"The probability of 3 white and 2 red is: {np.round(probabilities[0] * 100, 2)}%\")\n",
        "print(f\"The probability of all the same color is: {np.round(probabilities[1] * 100, 2)}%\")"
      ],
      "metadata": {
        "colab": {
          "base_uri": "https://localhost:8080/"
        },
        "id": "idOqMSywk3e8",
        "outputId": "9d4e136d-a934-4e55-ebfb-fc067c517649"
      },
      "execution_count": 4,
      "outputs": [
        {
          "output_type": "stream",
          "name": "stdout",
          "text": [
            "{0: 'White', 1: 'White', 2: 'White', 3: 'White', 4: 'White', 5: 'White', 6: 'White', 7: 'White', 8: 'White', 9: 'White', 10: 'Red', 11: 'Red', 12: 'Red', 13: 'Red', 14: 'Red', 15: 'Red', 16: 'Red', 17: 'Red', 18: 'Red', 19: 'Red', 20: 'Red', 21: 'Red', 22: 'Red', 23: 'Red', 24: 'Red', 25: 'Red', 26: 'Red', 27: 'Red', 28: 'Red', 29: 'Red', 30: 'Green', 31: 'Green', 32: 'Green', 33: 'Green', 34: 'Green', 35: 'Green', 36: 'Green', 37: 'Green', 38: 'Green', 39: 'Green', 40: 'Green', 41: 'Green', 42: 'Green', 43: 'Green', 44: 'Green', 45: 'Green', 46: 'Green', 47: 'Green', 48: 'Green', 49: 'Green', 50: 'Green', 51: 'Green', 52: 'Green', 53: 'Green', 54: 'Green', 55: 'Green', 56: 'Green', 57: 'Green', 58: 'Green', 59: 'Green'}\n",
            "The probability of 3 white and 2 red is: 0.8%\n",
            "The probability of all the same color is: 3.7%\n"
          ]
        }
      ]
    }
  ]
}